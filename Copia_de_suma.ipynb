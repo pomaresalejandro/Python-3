{
  "nbformat": 4,
  "nbformat_minor": 0,
  "metadata": {
    "colab": {
      "provenance": [],
      "include_colab_link": true
    },
    "kernelspec": {
      "name": "python3",
      "display_name": "Python 3"
    },
    "language_info": {
      "name": "python"
    }
  },
  "cells": [
    {
      "cell_type": "markdown",
      "metadata": {
        "id": "view-in-github",
        "colab_type": "text"
      },
      "source": [
        "<a href=\"https://colab.research.google.com/github/pomaresalejandro/Python-3/blob/codespace-psychic-space-doodle-96g4vvrqjxp2p965/Copia_de_suma.ipynb\" target=\"_parent\"><img src=\"https://colab.research.google.com/assets/colab-badge.svg\" alt=\"Open In Colab\"/></a>"
      ]
    },
    {
      "cell_type": "markdown",
      "source": [
        "Función que sume dos numeros"
      ],
      "metadata": {
        "id": "5gtgev5dzjoZ"
      }
    },
    {
      "cell_type": "code",
      "source": [],
      "metadata": {
        "id": "PX3zeL9A3lLZ"
      },
      "execution_count": null,
      "outputs": []
    },
    {
      "cell_type": "code",
      "execution_count": null,
      "metadata": {
        "id": "iPlmA9yqziK9",
        "outputId": "a308204e-8b62-4530-c4da-cd4ef282a3d3",
        "colab": {
          "base_uri": "https://localhost:8080/"
        }
      },
      "outputs": [
        {
          "output_type": "stream",
          "name": "stdout",
          "text": [
            "holaaaaaaaaaaaaaa\n"
          ]
        }
      ],
      "source": [
        "print('holaaaaaaaaaaaaaa')"
      ]
    },
    {
      "cell_type": "code",
      "source": [
        "print('pepeeeeee')"
      ],
      "metadata": {
        "colab": {
          "base_uri": "https://localhost:8080/"
        },
        "id": "1Rp6ysvE3meB",
        "outputId": "656619db-3fbf-45b2-a945-ca5111a509d1"
      },
      "execution_count": null,
      "outputs": [
        {
          "output_type": "stream",
          "name": "stdout",
          "text": [
            "pepeeeee\n"
          ]
        }
      ]
    },
    {
      "cell_type": "code",
      "source": [
        "dsafafasfsdfdsfsdfasdfsdaf"
      ],
      "metadata": {
        "colab": {
          "base_uri": "https://localhost:8080/",
          "height": 144
        },
        "id": "m0dBmcMb4dkG",
        "outputId": "e98f4669-ccbb-4e38-fc88-e09406fe0e1d"
      },
      "execution_count": null,
      "outputs": [
        {
          "output_type": "error",
          "ename": "NameError",
          "evalue": "name 'dsafafasfsdfdsfsdfasdfsdaf' is not defined",
          "traceback": [
            "\u001b[0;31m---------------------------------------------------------------------------\u001b[0m",
            "\u001b[0;31mNameError\u001b[0m                                 Traceback (most recent call last)",
            "\u001b[0;32m<ipython-input-4-19850e1195cd>\u001b[0m in \u001b[0;36m<cell line: 1>\u001b[0;34m()\u001b[0m\n\u001b[0;32m----> 1\u001b[0;31m \u001b[0mdsafafasfsdfdsfsdfasdfsdaf\u001b[0m\u001b[0;34m\u001b[0m\u001b[0;34m\u001b[0m\u001b[0m\n\u001b[0m",
            "\u001b[0;31mNameError\u001b[0m: name 'dsafafasfsdfdsfsdfasdfsdaf' is not defined"
          ]
        }
      ]
    },
    {
      "cell_type": "code",
      "source": [
        "asdfasdfasdfsdafdsfds"
      ],
      "metadata": {
        "colab": {
          "base_uri": "https://localhost:8080/",
          "height": 144
        },
        "id": "px6ctA_J4euu",
        "outputId": "1801f3ad-67ab-47fd-ed85-d997ec947b71"
      },
      "execution_count": null,
      "outputs": [
        {
          "output_type": "error",
          "ename": "NameError",
          "evalue": "name 'asdfasdfasdfsdafdsfds' is not defined",
          "traceback": [
            "\u001b[0;31m---------------------------------------------------------------------------\u001b[0m",
            "\u001b[0;31mNameError\u001b[0m                                 Traceback (most recent call last)",
            "\u001b[0;32m<ipython-input-5-b19b24710ff0>\u001b[0m in \u001b[0;36m<cell line: 1>\u001b[0;34m()\u001b[0m\n\u001b[0;32m----> 1\u001b[0;31m \u001b[0masdfasdfasdfsdafdsfds\u001b[0m\u001b[0;34m\u001b[0m\u001b[0;34m\u001b[0m\u001b[0m\n\u001b[0m",
            "\u001b[0;31mNameError\u001b[0m: name 'asdfasdfasdfsdafdsfds' is not defined"
          ]
        }
      ]
    }
  ]
}